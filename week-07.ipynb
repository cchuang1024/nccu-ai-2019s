{
 "cells": [
  {
   "cell_type": "markdown",
   "metadata": {
    "kernel": "SoS"
   },
   "source": [
    "* 證明 AIMA 圖 7.11 最後兩列的關係是 valid\n",
    "  - distributivity of $\\land$ over $\\lor$\n",
    "  - distributivity of $\\lor$ over $\\land$"
   ]
  },
  {
   "cell_type": "markdown",
   "metadata": {
    "kernel": "SoS"
   },
   "source": []
  },
  {
   "cell_type": "markdown",
   "metadata": {
    "kernel": "SoS"
   },
   "source": [
    "* 下列邏輯句子是 valid？還是 satisfiable？還是 unsatisfiable/invalid?\n",
    "  - $P \\land Q$\n",
    "  - $(P \\lor \\lnot P) \\land P$\n",
    "  - $P \\land (\\lnot P \\lor Q) \\land \\lnot Q$"
   ]
  },
  {
   "cell_type": "markdown",
   "metadata": {
    "kernel": "SoS"
   },
   "source": []
  },
  {
   "cell_type": "markdown",
   "metadata": {
    "kernel": "SoS"
   },
   "source": [
    "* 延續 simple.proof.pdf 的材料\n",
    "  - 把裡面的個別邏輯句子改寫成 conjunctive normal form (CNF)\n",
    "  - 利用你所改寫的 CNF 句子證明以下\n",
    "    * $\\lnot P_{2,2}$\n",
    "    * $P_{3,1}$"
   ]
  },
  {
   "cell_type": "markdown",
   "metadata": {
    "kernel": "SoS"
   },
   "source": []
  },
  {
   "cell_type": "markdown",
   "metadata": {
    "kernel": "SoS"
   },
   "source": [
    "* 實際自行上機演練 ai.2020apr16.s2.mp4 裡面的 CLIPS 指令\n",
    "  - 請參考 clips.ch78.pdf 的相關文字說明\n",
    "  - 期中評量的時候將有 CLIPS 的基本試題\n",
    "    * 不包含 propositional.wumpus.txt"
   ]
  },
  {
   "cell_type": "code",
   "execution_count": null,
   "metadata": {
    "kernel": "SoS"
   },
   "outputs": [],
   "source": []
  }
 ],
 "metadata": {
  "kernelspec": {
   "display_name": "SoS",
   "language": "sos",
   "name": "sos"
  },
  "language_info": {
   "codemirror_mode": "sos",
   "file_extension": ".sos",
   "mimetype": "text/x-sos",
   "name": "sos",
   "nbconvert_exporter": "sos_notebook.converter.SoS_Exporter",
   "pygments_lexer": "sos"
  },
  "sos": {
   "kernels": [],
   "panel": {
    "displayed": false,
    "height": 0
   },
   "version": "0.21.7"
  }
 },
 "nbformat": 4,
 "nbformat_minor": 4
}
