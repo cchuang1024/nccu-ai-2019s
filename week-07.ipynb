{
 "cells": [
  {
   "cell_type": "markdown",
   "metadata": {
    "kernel": "SoS"
   },
   "source": [
    "* 證明 AIMA 圖 7.11 最後兩列的關係是 valid\n",
    "  - distributivity of $\\land$ over $\\lor$\n",
    "  - distributivity of $\\lor$ over $\\land$"
   ]
  },
  {
   "cell_type": "markdown",
   "metadata": {
    "kernel": "SoS"
   },
   "source": [
    "根據 7.11 圖\n",
    "\n",
    "![fig 7.11](./aima-fig-7_11.png)"
   ]
  },
  {
   "cell_type": "markdown",
   "metadata": {
    "kernel": "SoS"
   },
   "source": [
    "#### 1. $({\\alpha}{\\land}({\\beta}{\\lor}{\\gamma})) \\equiv (({\\alpha}{\\land}{\\beta}){\\lor}({\\alpha}{\\land}{\\gamma}))$\n",
    "\n",
    "依據 truth table 之推導：\n",
    "\n",
    " α | β | γ | (α $\\land$ (β $\\lor$ γ)) | ((α $\\land$ β) $\\lor$ (α $\\land$ γ)) | (α $\\land$ (β $\\lor$ γ)) $\\equiv$ ((α $\\land$ β) $\\lor$ (α $\\land$ γ))\n",
    " ---- | ---- | ---- | ---- | ---- | ----\n",
    "  T | T | T | T | T | T\n",
    "  T | T | F | T | T | T\n",
    "  T | F | T | T | T | T\n",
    "  T | F | F | F | F | T\n",
    "  F | T | T | F | F | T\n",
    "  F | T | F | F | F | T\n",
    "  F | F | T | F | F | T\n",
    "  F | F | F | F | F | T\n",
    "  \n",
    "可得 $({\\alpha}{\\land}({\\beta}{\\lor}{\\gamma})) \\equiv (({\\alpha}{\\land}{\\beta}){\\lor}({\\alpha}{\\land}{\\gamma}))$ 為 valid"
   ]
  },
  {
   "cell_type": "markdown",
   "metadata": {
    "kernel": "SoS"
   },
   "source": [
    "#### 2. $({\\alpha}{\\lor}({\\beta}{\\land}{\\gamma})) \\equiv (({\\alpha}{\\lor}{\\beta}){\\land}({\\alpha}{\\lor}{\\gamma}))$"
   ]
  },
  {
   "cell_type": "markdown",
   "metadata": {
    "kernel": "SoS"
   },
   "source": [
    "依據 truth table 之推導：\n",
    "\n",
    " α | β | γ | (α $\\lor$ (β $\\land$ γ)) | ((α $\\lor$ β) $\\land$ (α $\\lor$ γ)) | (α $\\lor$ (β $\\land$ γ)) $\\equiv$ ((α $\\lor$ β) $\\land$ (α $\\lor$ γ))\n",
    " ---- | ---- | ---- | ---- | ---- | ----\n",
    "  T | T | T | T | T | T\n",
    "  T | T | F | T | T | T\n",
    "  T | F | T | T | T | T\n",
    "  T | F | F | T | T | T\n",
    "  F | T | T | T | T | T\n",
    "  F | T | F | F | F | T\n",
    "  F | F | T | F | F | T\n",
    "  F | F | F | F | F | T\n",
    "  \n",
    "可得 $({\\alpha}{\\lor}({\\beta}{\\land}{\\gamma})) \\equiv (({\\alpha}{\\lor}{\\beta}){\\land}({\\alpha}{\\lor}{\\gamma}))$ 為 valid"
   ]
  },
  {
   "cell_type": "markdown",
   "metadata": {
    "kernel": "SoS"
   },
   "source": [
    "* 下列邏輯句子是 valid？還是 satisfiable？還是 unsatisfiable/invalid?\n",
    "  - $P \\land Q$\n",
    "  - $(P \\lor \\lnot P) \\land P$\n",
    "  - $P \\land (\\lnot P \\lor Q) \\land \\lnot Q$"
   ]
  },
  {
   "cell_type": "markdown",
   "metadata": {
    "kernel": "SoS"
   },
   "source": [
    "#### 1. $P{\\land}Q$\n",
    "\n",
    "依 truth table\n",
    "\n",
    " P | Q | P $\\land$ Q\n",
    " --- | --- | ---\n",
    " T | T | T\n",
    " T | F | F\n",
    " F | T | F\n",
    " F | F | F\n",
    " \n",
    " 結果有時 true，有時 false，此為 satisfiable"
   ]
  },
  {
   "cell_type": "markdown",
   "metadata": {
    "kernel": "SoS"
   },
   "source": [
    "#### 2. $(P{\\lor}{\\lnot}P){\\land}P$\n",
    "\n",
    "依 turth table\n",
    "\n",
    "P | $\\lnot$P | (P${\\lor}{\\lnot}$P)${\\land}$P\n",
    "--- | --- | ---\n",
    " T | F | T\n",
    " F | T | T\n",
    " \n",
    "因結果永為 true，此為 valid"
   ]
  },
  {
   "cell_type": "markdown",
   "metadata": {
    "kernel": "SoS"
   },
   "source": [
    "#### 3.  $P {\\land} ({\\lnot} P {\\lor} Q) {\\land} {\\lnot} Q$\n",
    "\n",
    "依 truth table\n",
    "\n",
    " P | Q | P $\\land$($\\lnot$ P $\\lor$ Q) ${\\land}{\\lnot}Q$\n",
    " --- | --- | ---\n",
    " T | T | F\n",
    " T | F | F\n",
    " F | T | F\n",
    " F | F | F\n",
    " \n",
    "此敘述無法在任何情況下都無法滿足 (unsatisfiable)，故為 invalid"
   ]
  },
  {
   "cell_type": "markdown",
   "metadata": {
    "kernel": "SoS"
   },
   "source": [
    "* 延續 simple.proof.pdf 的材料\n",
    "  - 把裡面的個別邏輯句子改寫成 conjunctive normal form (CNF)\n",
    "  - 利用你所改寫的 CNF 句子證明以下\n",
    "    * $\\lnot P_{2,2}$\n",
    "    * $P_{3,1}$"
   ]
  },
  {
   "cell_type": "markdown",
   "metadata": {
    "kernel": "SoS"
   },
   "source": [
    "#### 1. \n",
    "\n",
    "1. R1: P31 $\\Rightarrow$ B21 $\\land$ B32 $\\land$ B41 <br>\n",
    "$\\equiv$ $\\lnot$ P31 $\\lor$ (B21 $\\land$ B32 $\\land$ B41) <br>\n",
    "$\\equiv$ $\\lnot$ P31 $\\lor$ (B21 $\\land$ B32 $\\land$ B41) <br>\n",
    "$\\equiv$ ($\\lnot$ P31 $\\lor$ B21) $\\land$ ($\\lnot$ P31 $\\lor$ B32) $\\land$ ($\\lnot$ P31 $\\lor$ B41) $\\rightarrow$ R5<br>\n",
    " \n",
    "2. R2: B21 $\\Rightarrow$ P11 $\\lor$ P22 $\\lor$ P31 <br>\n",
    "$\\equiv$ $\\lnot$ B21 $\\lor$ (P11 $\\lor$ P22 $\\lor$ P31) <br>\n",
    "$\\equiv$ ($\\lnot$ B21 $\\lor$ P11 $\\lor$ P22 $\\lor$ P31) $\\rightarrow$ R6<br>\n",
    "\n",
    "3. R3: P22 $\\Rightarrow$ B21 $\\land$ B23 $\\land$ B12 $\\land$ B32 <br>\n",
    "$\\equiv$ $\\lnot$ P22 $\\lor$ (B21 $\\land$ B23 $\\land$ B12 $\\land$ B32) <br>\n",
    "$\\equiv$ ($\\lnot$ P22 $\\lor$ B21) $\\land$ ($\\lnot$ P22 $\\lor$ B23) $\\land$ ($\\lnot$ P22 $\\lor$ B12) $\\land$ ($\\lnot$ P22 $\\lor$ B32) $\\rightarrow$ R7<br>\n",
    "\n",
    "4. R4: B12 $\\Rightarrow$ P11 $\\lor$ P22 $\\lor$ P13 <br>\n",
    "$\\equiv$ $\\lnot$ B12 $\\lor$ (P11 $\\lor$ P22 $\\lor$ P13) <br>\n",
    "$\\equiv$ ($\\lnot$ B12 $\\lor$ P11 $\\lor$ P22 $\\lor$ P13) $\\rightarrow$ R8<br>\n"
   ]
  },
  {
   "cell_type": "markdown",
   "metadata": {
    "kernel": "SoS"
   },
   "source": [
    "#### 2.\n",
    "\n",
    "依據 simple.proof.pdf 的 F1 ~ F4:\n",
    "\n",
    "1. F1: $\\lnot$B11\n",
    "1. F2: B21\n",
    "1. F3: $\\lnot$B12\n",
    "1. F4: $\\lnot$P11\n",
    "\n",
    "根據 R7，得：\n",
    "\n",
    "1. F5: $\\lnot$ P22 $\\lor$ B21\n",
    "1. F6: $\\lnot$ P22 $\\lor$ B23\n",
    "1. F7: $\\lnot$ P22 $\\lor$ B12\n",
    "1. F8: $\\lnot$ P22 $\\lor$ B32\n",
    "\n",
    "根據 F3、F7，以 unit resolution 消除，得\n",
    "\n",
    "* F9: $\\lnot$ P22\n",
    "\n",
    "再根據 R5，得\n",
    "\n",
    "1. F10: $\\lnot$ P31 $\\lor$ B21\n",
    "1. F11: $\\lnot$ P31 $\\lor$ B32\n",
    "1. F12: $\\lnot$ P31 $\\lor$ B41\n",
    "\n",
    "根據 R6、R9，以 unit resolution 消除，得\n",
    "\n",
    "* $\\lnot$ B21 $\\lor$ P11 $\\lor$ P31\n",
    "\n",
    "再藉由 F2、F4，同樣以 unit resolution 消除，得\n",
    "\n",
    "* F13: P31"
   ]
  },
  {
   "cell_type": "markdown",
   "metadata": {
    "kernel": "SoS"
   },
   "source": [
    "* 實際自行上機演練 ai.2020apr16.s2.mp4 裡面的 CLIPS 指令\n",
    "  - 請參考 clips.ch78.pdf 的相關文字說明\n",
    "  - 期中評量的時候將有 CLIPS 的基本試題\n",
    "    * 不包含 propositional.wumpus.txt"
   ]
  },
  {
   "cell_type": "code",
   "execution_count": null,
   "metadata": {
    "kernel": "SoS"
   },
   "outputs": [],
   "source": []
  }
 ],
 "metadata": {
  "kernelspec": {
   "display_name": "SoS",
   "language": "sos",
   "name": "sos"
  },
  "language_info": {
   "codemirror_mode": "sos",
   "file_extension": ".sos",
   "mimetype": "text/x-sos",
   "name": "sos",
   "nbconvert_exporter": "sos_notebook.converter.SoS_Exporter",
   "pygments_lexer": "sos"
  },
  "sos": {
   "kernels": [
    [
     "Python 3",
     "python3",
     "python3",
     "",
     ""
    ],
    [
     "SoS",
     "sos",
     "",
     "",
     "sos"
    ]
   ],
   "panel": {
    "displayed": false,
    "height": 0
   },
   "version": "0.21.7"
  }
 },
 "nbformat": 4,
 "nbformat_minor": 4
}
