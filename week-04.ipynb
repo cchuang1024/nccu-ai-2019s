{
 "cells": [
  {
   "cell_type": "markdown",
   "metadata": {},
   "source": [
    "# 第四週建議作業"
   ]
  },
  {
   "cell_type": "markdown",
   "metadata": {},
   "source": [
    "* 我們在上課的時候一直強調，A* 要發揮最佳的功效，必須先確定 heuristic function 是 admissible。我們沒有很多時間詳細說明，萬一 heuristic function 其實不符合 admissibility 的條件的話，會有甚麼後果。以下是兩個例題。"
   ]
  },
  {
   "cell_type": "markdown",
   "metadata": {},
   "source": [
    "- 假定我們採用圖 3.22 的 heuristic function，但是假設我們實際上高估了 Pitesti 到 Bucharest 的距離，假定我們估計的距離不是圖 3.22 的100，而是131。在這一些條件之下，假定我們要應用 A* 演算法找尋圖 3.2 上從Arad 到 Bucharest 的最短路線。繪製類似課本圖 3.24 的 search tree，並且參考圖 3.7 的說法，我們一共會執行幾次的expand the chosen node 的動作？依序是試探了哪一些路線(參考圖3.8)？你找到的答案是否是最短路線？\n",
    "  * 以上答案跟我們另 h(Pitesti)=100 的時候，有何不同？"
   ]
  },
  {
   "cell_type": "code",
   "execution_count": null,
   "metadata": {},
   "outputs": [],
   "source": []
  },
  {
   "cell_type": "markdown",
   "metadata": {},
   "source": [
    "- 假定我們採用圖 3.22 的 heuristic function，但是假設我們實際上高估了 Pitesti 到 Bucharest 的距離，假定我們估計的距離不是圖 3.22 的100，而是134。在這一些條件之下，假定我們要應用 A* 演算法找尋圖 3.2 上從Arad 到 Bucharest 的最短路線。繪製類似課本圖 3.24 的 search tree，並且參考圖 3.7 的說法，我們一共會執行幾次的expand the chosen node 的動作？依序是試探了哪一些路線(參考圖3.8)？你找到的答案是否是最短路線？\n",
    "  * 以上答案跟我們另 h(Pitesti)=100 的時候，有何不同？"
   ]
  },
  {
   "cell_type": "code",
   "execution_count": null,
   "metadata": {},
   "outputs": [],
   "source": []
  },
  {
   "cell_type": "markdown",
   "metadata": {},
   "source": [
    "* 檢驗 AIMA 圖4.3 標題裡面說 h=17 是否正確？"
   ]
  },
  {
   "cell_type": "code",
   "execution_count": null,
   "metadata": {},
   "outputs": [],
   "source": []
  },
  {
   "cell_type": "markdown",
   "metadata": {},
   "source": [
    "* 試試看別人處理 8 queens 的程式\n",
    "  - 例如：https://developers.google.com/optimization/cp/queens\n",
    "  - 網路上有很多這一類的程式，可以用 8 queens problem 找找看\n",
    "  - 他們都用一樣的觀點 (formulations) 來解這一個問題嗎？\n",
    "    * 有人使用我們所講的暴力方法嗎？\n",
    "    * 如果下載回家使用的話，那樣的程式可以處理多大的棋盤？\n",
    "    * 程式要執行多久？\n",
    "    * 有人使用 genetic algorithms 嗎？"
   ]
  },
  {
   "cell_type": "code",
   "execution_count": null,
   "metadata": {},
   "outputs": [],
   "source": []
  }
 ],
 "metadata": {
  "kernelspec": {
   "display_name": "Python 3",
   "language": "python",
   "name": "python3"
  },
  "language_info": {
   "codemirror_mode": {
    "name": "ipython",
    "version": 3
   },
   "file_extension": ".py",
   "mimetype": "text/x-python",
   "name": "python",
   "nbconvert_exporter": "python",
   "pygments_lexer": "ipython3",
   "version": "3.8.2"
  }
 },
 "nbformat": 4,
 "nbformat_minor": 4
}
