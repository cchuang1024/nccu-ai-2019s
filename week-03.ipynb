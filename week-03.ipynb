{
 "cells": [
  {
   "cell_type": "markdown",
   "metadata": {
    "kernel": "SoS"
   },
   "source": [
    "# 第三週建議作業"
   ]
  },
  {
   "cell_type": "markdown",
   "metadata": {
    "kernel": "SoS"
   },
   "source": [
    "## 1. 延續關於「機率與疾病」的討論\n",
    "\n",
    "![prob-corelation](./prob-corelation.png)\n",
    "\n",
    "* 假定Pr(C)=0.1，Pr(fever)=0.2，一個發燒病人得到肺炎的機率Pr(C|fever)是多少？\n",
    "  - 計算Pr(C|fever)/Pr(C)。這一個比例增加多少倍？"
   ]
  },
  {
   "cell_type": "code",
   "execution_count": 4,
   "metadata": {
    "kernel": "Racket"
   },
   "outputs": [
    {
     "name": "stdout",
     "output_type": "stream",
     "text": [
      "* Pr(fever|C) 是 0.4395\n",
      "  - Pr(C|fever) / Pr(C) 是 4.395 (倍)\n"
     ]
    }
   ],
   "source": [
    ";; A\n",
    "(define pr:C 0.1)  ;; Pr(C)\n",
    "(define pr:fever 0.2)  ;; Pr(fever)\n",
    "(define pr:fever@C 0.879)  ;; Pr(fever|C)\n",
    "\n",
    "(define pr:fever&C (* pr:fever@C pr:C))  ;; Pr(fever, C)\n",
    "(define pr:C@fever (/ pr:fever&C pr:fever))  ;; Pr(C|fever) = Pr(fever, C) / Pr(fever)\n",
    "\n",
    "(displayln (string-append \"* Pr(fever|C) 是 \" (number->string pr:C@fever)))\n",
    "(displayln (string-append \"  - Pr(C|fever) / Pr(C) 是 \" (number->string (/ pr:C@fever pr:C)) \" (倍)\"))"
   ]
  },
  {
   "cell_type": "markdown",
   "metadata": {
    "kernel": "Racket"
   },
   "source": [
    "* 假定Pr(fever|¬C)=0.01、Pr(C)=0.1，一個發燒病人得到肺炎的機率Pr(C|fever)是多少？\n",
    "  - Pr(C|fever) 還是 Pr(¬C|fever) 比較高？"
   ]
  },
  {
   "cell_type": "code",
   "execution_count": 5,
   "metadata": {
    "kernel": "Racket"
   },
   "outputs": [
    {
     "name": "stdout",
     "output_type": "stream",
     "text": [
      "* 發燒病人得到武漢肺炎 (C) 的機率是：0.955\n",
      "  - 在此條件下，Pr(¬C|fever) 為 0.045000000000000005\n",
      "    故 Pr(C|fever) > Pr(¬C|fever)\n"
     ]
    }
   ],
   "source": [
    ";; B\n",
    "(define pr:C 0.1)          ;; Pr(C)\n",
    "(define pr:¬C (- 1 pr:C))  ;; Pr(¬C)\n",
    "(define pr:fever 0.2)\n",
    "\n",
    "(define pr:fever@C 0.879)  ;; Pr(fever|C)\n",
    "(define pr:fever@¬C 0.01)  ;; Pr(fever|¬C)\n",
    "\n",
    "(define pr:fever&¬C (* pr:fever@¬C pr:¬C))\n",
    "(define pr:¬C@fever (/ pr:fever&¬C pr:fever))\n",
    "(define pr:C@fever (- 1 pr:¬C@fever))\n",
    "\n",
    "(displayln (string-append \"* 發燒病人得到武漢肺炎 (C) 的機率是：\" (number->string pr:C@fever)))\n",
    "(displayln (string-append \"  - 在此條件下，Pr(¬C|fever) 為 \" (number->string pr:¬C@fever)))\n",
    "(displayln \"    故 Pr(C|fever) > Pr(¬C|fever)\")"
   ]
  },
  {
   "cell_type": "markdown",
   "metadata": {
    "kernel": "SoS"
   },
   "source": [
    "## 2. 比較 BFS 和 IDS\n",
    "* 參考 AIMA Fig. 3.12 和相關說明 ![fig 3.12](./aima-fig-3_12.png)\n",
    "  - 假定一個搜尋問題，每一個節點有兩個子節點\n",
    "  - 利用BFS來搜尋答案的話，假定問題的答案在search tree 的第三層(層數從零開始)的話，**最多** 需要進入 Fig. 3.7 graph search 演算法中的 loop do，做幾次的 choose？"
   ]
  },
  {
   "cell_type": "code",
   "execution_count": 6,
   "metadata": {
    "kernel": "Python 3"
   },
   "outputs": [
    {
     "name": "stdout",
     "output_type": "stream",
     "text": [
      "A.\n",
      "BFS 路徑：\n",
      "A\n",
      "A\n",
      "C\n",
      "G\n",
      "O\n",
      "最多需進入 loop 執行次數： 14\n"
     ]
    }
   ],
   "source": [
    "from collections import namedtuple\n",
    "\n",
    "Node = namedtuple('Node', ['name', 'children'])\n",
    "Path = namedtuple('Path', ['nodes', 'size'])\n",
    "\n",
    "NULL = Node('', [])\n",
    "\n",
    "def build_node(name):\n",
    "    node = Node(name, [])\n",
    "    return node\n",
    "\n",
    "\n",
    "def build_nodes():\n",
    "    cities = ['A', 'B', 'C', 'D', 'E',\n",
    "              'F', 'G', 'H', 'I', 'J',\n",
    "              'K', 'L', 'M', 'N', 'O']\n",
    "    return {city: build_node(city) for city in cities}\n",
    "\n",
    "        \n",
    "def link_nodes(nodes, start, *ends):\n",
    "    start_node = nodes[start]\n",
    "    for end in ends:\n",
    "        start_node.children.append(nodes[end])\n",
    "\n",
    "def build_bfs_map():\n",
    "    nodes = build_nodes()\n",
    "    \n",
    "    link_nodes(nodes, 'A', 'B', 'C')\n",
    "    link_nodes(nodes, 'B', 'D', 'E')\n",
    "    link_nodes(nodes, 'C', 'F', 'G')\n",
    "    link_nodes(nodes, 'D', 'H', 'I')\n",
    "    link_nodes(nodes, 'E', 'J', 'K')\n",
    "    link_nodes(nodes, 'F', 'L', 'M')\n",
    "    link_nodes(nodes, 'G', 'N', 'O')\n",
    "    \n",
    "    return nodes['A']\n",
    "\n",
    "\n",
    "def valid_path(path, start_name, end_name):\n",
    "    start = path.nodes[0]\n",
    "    end = path.nodes[-1]\n",
    "\n",
    "    return start.name == start_name and end.name == end_name\n",
    "\n",
    "\n",
    "def extend_path(path):\n",
    "    paths = []\n",
    "    \n",
    "    path_nodes = path.nodes\n",
    "    start = path_nodes[0]\n",
    "    end = path_nodes[-1]\n",
    "    children_of_end = end.children\n",
    "\n",
    "    size = path.size\n",
    "    \n",
    "    for child in children_of_end:\n",
    "        new_nodes = path_nodes.copy()\n",
    "        new_nodes.append(child)\n",
    "        paths.append(Path(new_nodes, size + 1))\n",
    "        \n",
    "    return paths\n",
    "\n",
    "\n",
    "def bfs(frontier, es, times):\n",
    "    if len(frontier) == 0 or frontier is None:\n",
    "        raise Exception()\n",
    "    else:\n",
    "        path = frontier.pop(0)\n",
    "\n",
    "        if valid_path(path, 'A', 'O'):\n",
    "            return path, times\n",
    "        else:\n",
    "            es.append(path)\n",
    "            frontier.extend(extend_path(path))\n",
    "            return bfs(frontier, es, times + 1)\n",
    "\n",
    "start = build_bfs_map()\n",
    "path, times = bfs([Path([start, start], 0)], [], 0)\n",
    "\n",
    "print('A.')\n",
    "\n",
    "print('BFS 路徑：')\n",
    "for node in path.nodes:\n",
    "    print(node.name)\n",
    "\n",
    "print(\"最多需進入 loop 執行次數：\", times)"
   ]
  },
  {
   "cell_type": "markdown",
   "metadata": {
    "kernel": "Python 3"
   },
   "source": [
    "* 參考 AIMA Fig. 3.18 和 Fig. 3.19 和相關說明和 p. 90 上的計算 ![fig 3.18](./aima-fig-3_18.png) ![fig 3.19](./aima-fig-3_19.png) ![fun ids](./aima-fun-ids.png)\n",
    "  - 假定一個搜尋問題，每一個節點有兩個子節點\n",
    "  - 利用IDS來搜尋答案的話，假定問題的答案在search tree 的第三層(層數從零開始)的話，**最多** 需要 choose 多少節點才會找到答案？ \n",
    "  \n",
    "計算函式如下：\n",
    "  \n",
    "$$\\sum_{n=0}^{n=d-1}(d-n)(b^{n+1})$$"
   ]
  },
  {
   "cell_type": "code",
   "execution_count": 13,
   "metadata": {
    "kernel": "Racket"
   },
   "outputs": [
    {
     "name": "stdout",
     "output_type": "stream",
     "text": [
      "* 最多會執行 52 次 loop\n"
     ]
    }
   ],
   "source": [
    "(define depth 3)\n",
    "(define branch 2)\n",
    "\n",
    "(define loop-count\n",
    "    (lambda (d b n)\n",
    "        (if (= n 0)\n",
    "            (* d b)\n",
    "            (+ (* (- d n)\n",
    "                  (expt b (+ n 1)))\n",
    "               (loop-count d b (- n 1))))))\n",
    "               \n",
    "(define loops (loop-count (+ depth 1) branch depth))\n",
    "\n",
    "(displayln (string-append \"* 最多會執行 \" (number->string loops)  \" 次 loop\"))"
   ]
  },
  {
   "cell_type": "markdown",
   "metadata": {
    "kernel": "SoS"
   },
   "source": [
    "## 3. 參照 ai.ch3.dfs.bfs.pdf 第29頁投影片上的 8 puzzle 問題\n",
    "\n",
    "![slide p29](./slide-ch3-p29.png)\n",
    "\n",
    "* 利用AIMA書本的 h1 和 h2 來找這一 8 puzzle 問題的答案\n",
    "* 思考一下，如果使用 BFS 或者 DFS 的話，所需要 expand 的節點的數目會不會多很多？"
   ]
  },
  {
   "cell_type": "markdown",
   "metadata": {
    "kernel": "Python 3"
   },
   "source": [
    "### 1.\n",
    "\n",
    "**假設走訪方向皆為 w -> n -> e -> s**\n",
    "\n",
    "#### h1 算法：\n",
    "\n",
    "* init: $\\begin{bmatrix} 3 & 2 & 0\\\\4 & 1 & 5\\\\6 & 7 & 8\\end{bmatrix}$\n",
    "  - 0 -> w: $\\begin{bmatrix} 3 & 0 & 2\\\\4 & 1 & 5\\\\6 & 7 & 8\\end{bmatrix}$, h1 = 3 **(choosed)**\n",
    "  - 0 -> s: $\\begin{bmatrix} 3 & 2 & 5\\\\4 & 1 & 0\\\\6 & 7 & 8\\end{bmatrix}$, h1 = 5\n",
    "\n",
    "\n",
    "* 1st iterate: $\\begin{bmatrix} 3 & 0 & 2\\\\4 & 1 & 5\\\\6 & 7 & 8\\end{bmatrix}$\n",
    "    * 0 -> w: $\\begin{bmatrix} 0 & 3 & 2\\\\4 & 1 & 5\\\\6 & 7 & 8\\end{bmatrix}$, h1 = 3\n",
    "    * 0 -> s: $\\begin{bmatrix} 3 & 1 & 2\\\\4 & 0 & 5\\\\6 & 7 & 8\\end{bmatrix}$, h1 = 2 **(choosed)**\n",
    "\n",
    "\n",
    "* 2nd iterate: $\\begin{bmatrix} 3 & 1 & 2\\\\4 & 0 & 5\\\\6 & 7 & 8\\end{bmatrix}$\n",
    "  - 0 -> w: $\\begin{bmatrix} 3 & 1 & 2\\\\0 & 4 & 5\\\\6 & 7 & 8\\end{bmatrix}$, h1 = 1 **(choosed)**\n",
    "  - 0 -> n: _(repeated)_\n",
    "  - 0 -> e: $\\begin{bmatrix} 3 & 1 & 2\\\\4 & 5 & 0\\\\6 & 7 & 8\\end{bmatrix}$, h1 = 3\n",
    "  - 0 -> s: $\\begin{bmatrix} 3 & 1 & 2\\\\4 & 7 & 5\\\\6 & 0 & 8\\end{bmatrix}$, h1 = 3\n",
    "\n",
    "\n",
    "* 3rd iterate: $\\begin{bmatrix} 3 & 1 & 2\\\\0 & 4 & 5\\\\6 & 7 & 8\\end{bmatrix}$\n",
    "  * 0 -> n: $\\begin{bmatrix} 0 & 1 & 2\\\\3 & 4 & 5\\\\6 & 7 & 8\\end{bmatrix}$, **(finished)**\n",
    "\n",
    "\n",
    "#### h2 算法：\n",
    "\n",
    "* init: $\\begin{bmatrix} 3 & 2 & 0\\\\4 & 1 & 5\\\\6 & 7 & 8\\end{bmatrix}$\n",
    "  - 0 -> w: $\\begin{bmatrix} 3 & 0 & 2\\\\4 & 1 & 5\\\\6 & 7 & 8\\end{bmatrix}$, h2 = 1 + 2 + 1 = 4 **(choosed)**\n",
    "  - 0 -> s: $\\begin{bmatrix} 3 & 2 & 5\\\\4 & 1 & 0\\\\6 & 7 & 8\\end{bmatrix}$, h2 = 1 + 1 + 1 + 2 = 5\n",
    "\n",
    "\n",
    "* 1st iterate: $\\begin{bmatrix} 3 & 0 & 2\\\\4 & 1 & 5\\\\6 & 7 & 8\\end{bmatrix}$\n",
    "  - 0 -> w: $\\begin{bmatrix} 0 & 3 & 2\\\\4 & 1 & 5\\\\6 & 7 & 8\\end{bmatrix}$, h2 = 1 + 2 + 1 = 4 **(choosed)**\n",
    "  - 0 -> e: _(repeated)_\n",
    "  - 0 -> s: $\\begin{bmatrix} 3 & 1 & 2\\\\4 & 0 & 5\\\\6 & 7 & 8\\end{bmatrix}$, h2 = 1 + 1 = 2 **(choosed)**\n",
    "\n",
    "\n",
    "* 2nd iterate: $\\begin{bmatrix} 3 & 1 & 2\\\\4 & 0 & 5\\\\6 & 7 & 8\\end{bmatrix}$\n",
    "  - 0 -> w: $\\begin{bmatrix} 3 & 1 & 2\\\\0 & 4 & 5\\\\6 & 7 & 8\\end{bmatrix}$, h2 = 1 **(choosed)**\n",
    "  - 0 -> n: _(repeated)_\n",
    "  - 0 -> e: $\\begin{bmatrix} 3 & 1 & 2\\\\4 & 5 & 0\\\\6 & 7 & 8\\end{bmatrix}$, h2 = 1 + 1 + 1 = 3\n",
    "\n",
    "\n",
    "* 3rd iterate: $\\begin{bmatrix} 3 & 1 & 2\\\\0 & 4 & 5\\\\6 & 7 & 8\\end{bmatrix}$\n",
    "  - 0 -> n: $\\begin{bmatrix} 0 & 1 & 2\\\\3 & 4 & 5\\\\6 & 7 & 8\\end{bmatrix}$ **(finished)**"
   ]
  },
  {
   "cell_type": "markdown",
   "metadata": {
    "kernel": "Python 3"
   },
   "source": [
    "當今天使用 DFS、BFS 時，路徑選擇是無法有效地掌握最有可能的作法，要不就是會展開大量的節點，要不就是會追溯到極深的節點。"
   ]
  }
 ],
 "metadata": {
  "kernelspec": {
   "display_name": "SoS",
   "language": "sos",
   "name": "sos"
  },
  "language_info": {
   "codemirror_mode": "sos",
   "file_extension": ".sos",
   "mimetype": "text/x-sos",
   "name": "sos",
   "nbconvert_exporter": "sos_notebook.converter.SoS_Exporter",
   "pygments_lexer": "sos"
  },
  "sos": {
   "kernels": [
    [
     "Python 3",
     "python3",
     "python3",
     "",
     {
      "name": "ipython",
      "version": 3
     }
    ],
    [
     "Racket",
     "racket",
     "racket",
     "",
     "scheme"
    ]
   ],
   "panel": {
    "displayed": false,
    "height": 0
   },
   "version": "0.21.7"
  }
 },
 "nbformat": 4,
 "nbformat_minor": 2
}
