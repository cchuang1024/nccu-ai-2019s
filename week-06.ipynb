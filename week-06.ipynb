{
 "cells": [
  {
   "cell_type": "code",
   "execution_count": null,
   "metadata": {
    "kernel": "SoS"
   },
   "outputs": [],
   "source": [
    "練習 minimax with alpha-beta pruning (AIMA Sec. 5.3)\n",
    "考慮以下 game tree\n",
    "game tree \n",
    "注意：這一棵 game tree 和 AIMA 圖5.2雖然類似，但是有不少差異\n",
    "提示：注意 AIMA Sec. 5.3.1 所講的 move ordering 問題\n",
    "假設我們在執行 AIMA 圖 5.7 演算法中 for each a in Action(state) do 的時候，都是從上面 game tree 左邊的節點開始、逐次往右搜尋的話，則上述哪一些 subtree 可以被忽略？說明原因。\n",
    "假設我們在執行 AIMA 圖 5.7 演算法中 for each a in Action(state) do 的時候，都是從上面 game tree 右邊的節點開始、逐次往左搜尋的話，則上述哪一些 subtree 可以被忽略？說明原因\n",
    "模仿上課時以真值表證明 P ⇒ Q ≡ ¬Q ⇒ ¬P 的方式 (在白板上寫的證明)，證明以下關係\n",
    "P ⇒ Q ≡ ¬P ∨ Q\n",
    "模仿 simple.proof.pdf 證明 P2,2 不成立(P2,2=False) 的程序，利用以下的 logic sentences，證明 W2,2 也不成立。\n",
    "參考 AI.logical.agents.pdf 第18頁上的說明，或者 AIMA Sec. 7.4.3 (p. 247) 的內容，我們使用 W 和 S 的符號\n",
    "W1,3 ⇒ S1,2 ᴧ S2,3 ᴧ S1,4\n",
    "S1,2 ⇒ W1,1 ∨ W2,2 ∨ W1,3 \n",
    "W2,2 ⇒ S1,2 ᴧ S3,2 ᴧ S2,1 ᴧ S2,3\n",
    "S2,1 ⇒ W1,1 ∨ W2,2 ∨ W3,1\n",
    "¬S1,1\n",
    "S1,2\n",
    "¬S2,1\n",
    "¬W1,1"
   ]
  }
 ],
 "metadata": {
  "kernelspec": {
   "display_name": "SoS",
   "language": "sos",
   "name": "sos"
  },
  "language_info": {
   "codemirror_mode": "sos",
   "file_extension": ".sos",
   "mimetype": "text/x-sos",
   "name": "sos",
   "nbconvert_exporter": "sos_notebook.converter.SoS_Exporter",
   "pygments_lexer": "sos"
  },
  "sos": {
   "kernels": [],
   "panel": {
    "displayed": false,
    "height": 0
   },
   "version": "0.21.7"
  }
 },
 "nbformat": 4,
 "nbformat_minor": 4
}
