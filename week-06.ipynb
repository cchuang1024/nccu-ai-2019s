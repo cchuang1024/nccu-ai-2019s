{
 "cells": [
  {
   "cell_type": "markdown",
   "metadata": {
    "kernel": "SoS"
   },
   "source": [
    "* 練習 minimax with alpha-beta pruning (AIMA Sec. 5.3) 考慮以下 game tree\n",
    "  - ![game tree](./game.tree.alpha.beta.pruning.jpg)\n",
    "  - 注意：這一棵 game tree 和 AIMA 圖5.2雖然類似，但是有不少差異\n",
    "  - 提示：注意 AIMA Sec. 5.3.1 所講的 move ordering 問題\n",
    "  - 假設我們在執行 AIMA 圖 5.7 演算法中 for each a in Action(state) do 的時候，都是從上面 game tree 左邊的節點開始、逐次往右搜尋的話，則上述哪一些 subtree 可以被忽略？說明原因。\n",
    "  - 假設我們在執行 AIMA 圖 5.7 演算法中 for each a in Action(state) do 的時候，都是從上面 game tree 右邊的節點開始、逐次往左搜尋的話，則上述哪一些 subtree 可以被忽略？說明原因"
   ]
  },
  {
   "cell_type": "code",
   "execution_count": null,
   "metadata": {
    "kernel": "SoS"
   },
   "outputs": [],
   "source": []
  },
  {
   "cell_type": "markdown",
   "metadata": {
    "kernel": "SoS"
   },
   "source": [
    "* 模仿上課時以真值表證明 $P \\Rightarrow Q \\equiv \\lnot Q \\Rightarrow \\lnot P$ 的方式 (在白板上寫的證明)，證明以下關係\n",
    "  - $P \\Rightarrow Q \\equiv \\lnot P \\lor Q$"
   ]
  },
  {
   "cell_type": "markdown",
   "metadata": {
    "kernel": "SoS"
   },
   "source": [
    "  $P$  |  $Q$  | $\\lnot P$ | $P \\Rightarrow Q$\n",
    " ---- | ---- | ---- | ----\n",
    " T | T | F |\n",
    " T | F | F |\n",
    " F | T | T |\n",
    " F | F | T |"
   ]
  },
  {
   "cell_type": "markdown",
   "metadata": {
    "kernel": "SoS"
   },
   "source": [
    "* 模仿 simple.proof.pdf 證明 $P_{2,2}$ 不成立$(P_{2,2} = False)$ 的程序，利用以下的 logic sentences，證明 $W_{2,2}$ 也不成立。\n",
    "  - 參考 AI.logical.agents.pdf 第18頁上的說明，或者 AIMA Sec. 7.4.3 (p. 247) 的內容，我們使用 W 和 S 的符號\n",
    "  - $W_{1,3} \\Rightarrow S_{1,2} \\land S_{2,3} \\land S_{1,4}$\n",
    "  - $S_{1,2} \\Rightarrow W_{1,1} \\lor W_{2,2} \\lor W_{1,3}$\n",
    "  - $W_{2,2} \\Rightarrow S_{1,2} \\land S_{3,2} \\land S_{2,1} \\land S_{2,3}$\n",
    "  - $S_{2,1} \\Rightarrow W_{1,1} \\lor W_{2,2} \\lor W_{3,1}$\n",
    "  - $\\lnot S_{1,1}$\n",
    "  - $S_{1,2}$\n",
    "  - $\\lnot S_{2,1}$\n",
    "  - $\\lnot W_{1,1}$"
   ]
  },
  {
   "cell_type": "code",
   "execution_count": null,
   "metadata": {
    "kernel": "SoS"
   },
   "outputs": [],
   "source": []
  }
 ],
 "metadata": {
  "kernelspec": {
   "display_name": "SoS",
   "language": "sos",
   "name": "sos"
  },
  "language_info": {
   "codemirror_mode": "sos",
   "file_extension": ".sos",
   "mimetype": "text/x-sos",
   "name": "sos",
   "nbconvert_exporter": "sos_notebook.converter.SoS_Exporter",
   "pygments_lexer": "sos"
  },
  "sos": {
   "kernels": [],
   "panel": {
    "displayed": false,
    "height": 0
   },
   "version": "0.21.7"
  }
 },
 "nbformat": 4,
 "nbformat_minor": 4
}
