{
 "cells": [
  {
   "cell_type": "markdown",
   "metadata": {
    "kernel": "SoS"
   },
   "source": [
    "# 1.\n",
    "\n",
    "這一個建議作業與程式作業相關\n",
    "\n",
    "在任課老師的程式作業答案中，使用到 (not) 指令。這一個指令上課時間沒有講到。\n",
    "\n",
    "這一組簡短範例示範如何使用 (not) 指令\n",
    "\n",
    "* (not) 指令限制在 facts 裡面沒有特定 facts 時，rules 的前提才算得到滿足\n",
    "* 這跟我們上課所講的因為匹配而滿足是互補的觀念\n",
    "  * \"因為匹配而滿足\"是 AIMA 第九章所講的 unification\n",
    "* 更多參考資料\n",
    "  * CLIPS documentation\n",
    "    * https://sourceforge.net/projects/clipsrules/files/CLIPS/6.31/clips_documentation_631.zip/download\n",
    "      * basic programming guide (3.1)\n",
    "        * Section 5.4.5\n",
    "\n",
    "操作程序\n",
    "\n",
    "* 進入 CLIPS 環境，依序輸入以下定義和指令\n",
    "\n",
    "```lisp\n",
    "CLIPS> (defrule stop_then_go\n",
    "(numlist $? 4 $?)\n",
    "(stop_sign)\n",
    "=>\n",
    "(printout t \"hello world\" crlf)\n",
    ")\n",
    "```\n",
    "\n",
    "```lisp\n",
    "CLIPS> (defrule no_stop_then_go\n",
    "(numlist $? 4 $?)\n",
    "(not (stop_sign))\n",
    "=>\n",
    "(printout t \"hello world not\" crlf)\n",
    ")\n",
    "```\n",
    "\n",
    "```lisp\n",
    "CLIPS> (assert (numlist 1 2 3 4))\n",
    "CLIPS> (agenda)\n",
    "CLIPS> (assert (stop_sign))\n",
    "CLIPS> (agenda)\n",
    "CLIPS> (retract 2) ;; [備註：這裡用固定的 2 是有危險的，必須是你剛剛真的是剛剛進入CLIPS]\n",
    "CLIPS> (agenda)\n",
    "```\n",
    "\n",
    "**觀察 agenda 裡面兩條規則在甚麼狀況之下被啟動**"
   ]
  },
  {
   "cell_type": "markdown",
   "metadata": {
    "kernel": "SoS"
   },
   "source": []
  },
  {
   "cell_type": "markdown",
   "metadata": {
    "kernel": "SoS"
   },
   "source": [
    "# 2.\n",
    "\n",
    "依據 joint.distribution.4.random.variables.csv 的數據\n",
    "\n",
    "- 利用 AIMA (13.6)、(13.8) 或者 Sec. 13.5 所解釋的貝氏定理計算以下機率\n",
    "  * Pr(A=a1) \n",
    "  * Pr(D=d2)\n",
    "  * Pr(A=a1|D=d2)\n",
    "  * Pr(D=d2|A=a1)\n",
    "  * Pr(D=d2|A=a2, B=b2)\n",
    "  * Pr(c1, d1 | a1, b1)"
   ]
  },
  {
   "cell_type": "code",
   "execution_count": null,
   "metadata": {
    "kernel": "SoS"
   },
   "outputs": [],
   "source": []
  },
  {
   "cell_type": "markdown",
   "metadata": {
    "kernel": "SoS"
   },
   "source": [
    "# 3.\n",
    "\n",
    "確知如何檢驗機率變數的獨立和條件獨立關係，以下 joint probability 中的 A 和 B 是否獨立？\n",
    "\n",
    "> [備註：機率表的讀法：Pr(A=a1, B=b1)=0.1; Pr(A=a2,B=b2)=0.2]\n",
    "\n",
    "> [備註：參考 AIMA Sec. 13.4]\n",
    "\n",
    "A | B | Pr(A, B)\n",
    "-- | -- | --\n",
    "a1 | b1 | 0.1\n",
    "a1 | b2 | 0.1\n",
    "a2 | b1 | 0.1\n",
    "a2 | b2 | 0.2\n",
    "a3 | b1 | 0.3\n",
    "a3 | b2 | 0.2"
   ]
  },
  {
   "cell_type": "code",
   "execution_count": null,
   "metadata": {
    "kernel": "SoS"
   },
   "outputs": [],
   "source": []
  },
  {
   "cell_type": "markdown",
   "metadata": {
    "kernel": "SoS"
   },
   "source": [
    "# 4.\n",
    "\n",
    "依據以下的 joint probability distribution回答問題\n",
    "\n",
    "* B 和 C 是否獨立？[備註：參考 AIMA Sec. 13.4]\n",
    "* 若給定機率變數A，B和C是否條件獨立？\n",
    "\n",
    "> [備註：參考 AIMA p. 498]\n",
    "\n",
    "A | B | C | Pr(A,B,C)\n",
    "-- | -- | -- | --\n",
    "a1 | b1 | c1 | 0.216\n",
    "a1 | b1 | c2 | 0.024\n",
    "a1 | b2 | c1 | 0.324\n",
    "a1 | b2 | c2 | 0.036\n",
    "a2 | b1 | c1 | 0.056\n",
    "a2 | b1 | c2 | 0.224\n",
    "a2 | b2 | c1 | 0.024\n",
    "a2 | b2 | c2 | 0.096\n"
   ]
  },
  {
   "cell_type": "code",
   "execution_count": null,
   "metadata": {
    "kernel": "SoS"
   },
   "outputs": [],
   "source": []
  },
  {
   "cell_type": "markdown",
   "metadata": {
    "kernel": "SoS"
   },
   "source": [
    "# 5.\n",
    "\n",
    "貝氏網路預備工作\n",
    "\n",
    "* 安裝 Hugin Lite：https://www.hugin.com/\n",
    "* 下載 ChestClinic.net\n",
    "* 嘗試開啟 ChestClinic.net"
   ]
  },
  {
   "cell_type": "code",
   "execution_count": null,
   "metadata": {
    "kernel": "SoS"
   },
   "outputs": [],
   "source": []
  }
 ],
 "metadata": {
  "kernelspec": {
   "display_name": "SoS",
   "language": "sos",
   "name": "sos"
  },
  "language_info": {
   "codemirror_mode": "sos",
   "file_extension": ".sos",
   "mimetype": "text/x-sos",
   "name": "sos",
   "nbconvert_exporter": "sos_notebook.converter.SoS_Exporter",
   "pygments_lexer": "sos"
  },
  "sos": {
   "kernels": [],
   "panel": {
    "displayed": false,
    "height": 0
   },
   "version": "0.21.7"
  }
 },
 "nbformat": 4,
 "nbformat_minor": 4
}
