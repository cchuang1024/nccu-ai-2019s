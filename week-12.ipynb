{
 "cells": [
  {
   "cell_type": "markdown",
   "metadata": {
    "kernel": "SoS"
   },
   "source": [
    "# 1.\n",
    "\n",
    "這一個建議作業與程式作業相關\n",
    "\n",
    "在任課老師的程式作業答案中，使用到 (not) 指令。這一個指令上課時間沒有講到。\n",
    "\n",
    "這一組簡短範例示範如何使用 (not) 指令\n",
    "\n",
    "* (not) 指令限制在 facts 裡面沒有特定 facts 時，rules 的前提才算得到滿足\n",
    "* 這跟我們上課所講的因為匹配而滿足是互補的觀念\n",
    "  * \"因為匹配而滿足\"是 AIMA 第九章所講的 unification\n",
    "* 更多參考資料\n",
    "  * CLIPS documentation\n",
    "    * https://sourceforge.net/projects/clipsrules/files/CLIPS/6.31/clips_documentation_631.zip/download\n",
    "      * basic programming guide (3.1)\n",
    "        * Section 5.4.5\n",
    "\n",
    "操作程序\n",
    "\n",
    "* 進入 CLIPS 環境，依序輸入以下定義和指令\n",
    "\n",
    "```lisp\n",
    "CLIPS> (defrule stop_then_go\n",
    "(numlist $? 4 $?)\n",
    "(stop_sign)\n",
    "=>\n",
    "(printout t \"hello world\" crlf)\n",
    ")\n",
    "```\n",
    "\n",
    "```lisp\n",
    "CLIPS> (defrule no_stop_then_go\n",
    "(numlist $? 4 $?)\n",
    "(not (stop_sign))\n",
    "=>\n",
    "(printout t \"hello world not\" crlf)\n",
    ")\n",
    "```\n",
    "\n",
    "```lisp\n",
    "CLIPS> (assert (numlist 1 2 3 4))\n",
    "CLIPS> (agenda)\n",
    "CLIPS> (assert (stop_sign))\n",
    "CLIPS> (agenda)\n",
    "CLIPS> (retract 2) ;; [備註：這裡用固定的 2 是有危險的，必須是你剛剛真的是剛剛進入CLIPS]\n",
    "CLIPS> (agenda)\n",
    "```\n",
    "\n",
    "**觀察 agenda 裡面兩條規則在甚麼狀況之下被啟動**"
   ]
  },
  {
   "cell_type": "markdown",
   "metadata": {
    "kernel": "SoS"
   },
   "source": [
    "按上述程式碼，執行結果如下：\n",
    "\n",
    "```lisp\n",
    "CLIPS> (defrule stop_then_go\n",
    "(numlist $? 4 $?)\n",
    "(stop_sign)\n",
    "=>\n",
    "(printout t \"hello world\" crlf))\n",
    "CLIPS> (defrule no_stop_then_go\n",
    "(numlist $? 4 $?)\n",
    "(not (stop_sign))\n",
    "=>\n",
    "(printout t \"hello word not\" crlf))\n",
    "CLIPS> (assert (numlist 1 2 3 4))\n",
    "<Fact-1>\n",
    "CLIPS> (agenda)\n",
    "0      no_stop_then_go: f-1,*\n",
    "For a total of 1 activation.\n",
    "CLIPS> (assert (stop_sign))\n",
    "<Fact-2>\n",
    "CLIPS> (agenda)\n",
    "0      stop_then_go: f-1,f-2\n",
    "For a total of 1 activation.\n",
    "CLIPS> (retract 2)\n",
    "CLIPS> (agenda)\n",
    "0      no_stop_then_go: f-1,*\n",
    "For a total of 1 activation.\n",
    "```\n",
    "\n",
    "觀察如下：\n",
    "\n",
    "1. 第一時間 `assert` 一筆 fact 時，此時尚無 `stop_sign` 之 fact，因此第一次的 `agenda` 會發現程式會觸發 `no_stop_then_go` 的 rule\n",
    "2. 當 `assert (stop_sign)` 進去之後，第二次的 `agenda` 會發現程式會觸發 `stop_then_go` 的 rule\n",
    "3. 而當 `retract 2` 之後，當然，這步可以寫一個 function 或 rule 來取代直接 `retract` 特定 fact address 的方式，`stop_sign` 被移除了\n",
    "4. 第三次執行 `agenda` 時，便發現最後又回到了 `not_stop_then_go` 的 rule，因為此時 `stop_sign` 不存在，使得 `(not (stop_sign))` 的條件成立"
   ]
  },
  {
   "cell_type": "markdown",
   "metadata": {
    "kernel": "SoS"
   },
   "source": [
    "# 2.\n",
    "\n",
    "依據 joint.distribution.4.random.variables.csv 的數據\n",
    "\n",
    "- 利用 AIMA (13.6)、(13.8) 或者 Sec. 13.5 所解釋的貝氏定理計算以下機率\n",
    "  * Pr(A=a1) \n",
    "  * Pr(D=d2)\n",
    "  * Pr(A=a1|D=d2)\n",
    "  * Pr(D=d2|A=a1)\n",
    "  * Pr(D=d2|A=a2, B=b2)\n",
    "  * Pr(c1, d1 | a1, b1)"
   ]
  },
  {
   "cell_type": "code",
   "execution_count": 2,
   "metadata": {
    "kernel": "Python3"
   },
   "outputs": [
    {
     "name": "stdout",
     "output_type": "stream",
     "text": [
      "csv content:\n",
      "     A   B   C   D  Pr(A, B, C, D)\n",
      "0   a1  b1  c1  d1           0.003\n",
      "1   a1  b1  c1  d2           0.047\n",
      "2   a1  b1  c2  d1           0.085\n",
      "3   a1  b1  c2  d2           0.036\n",
      "4   a1  b2  c1  d1           0.041\n",
      "5   a1  b2  c1  d2           0.111\n",
      "6   a1  b2  c2  d1           0.098\n",
      "7   a1  b2  c2  d2           0.093\n",
      "8   a2  b1  c1  d1           0.034\n",
      "9   a2  b1  c1  d2           0.034\n",
      "10  a2  b1  c2  d1           0.106\n",
      "11  a2  b1  c2  d2           0.054\n",
      "12  a2  b2  c1  d1           0.083\n",
      "13  a2  b2  c1  d2           0.028\n",
      "14  a2  b2  c2  d1           0.023\n",
      "15  a2  b2  c2  d2           0.122\n",
      "sum:  0.998\n"
     ]
    }
   ],
   "source": [
    "import pandas as pd\n",
    "\n",
    "joint_csv = pd.read_csv('joint.distribution.4.random.variables.csv')\n",
    "\n",
    "print('csv content:')\n",
    "print(joint_csv)\n",
    "\n",
    "print('sum: ', joint_csv['Pr(A, B, C, D)'].sum())"
   ]
  },
  {
   "cell_type": "code",
   "execution_count": 18,
   "metadata": {
    "kernel": "Python3"
   },
   "outputs": [
    {
     "name": "stdout",
     "output_type": "stream",
     "text": [
      "==> 1. Pr(A=a1) 集合內容:\n",
      "    A   B   C   D  Pr(A, B, C, D)\n",
      "0  a1  b1  c1  d1           0.003\n",
      "1  a1  b1  c1  d2           0.047\n",
      "2  a1  b1  c2  d1           0.085\n",
      "3  a1  b1  c2  d2           0.036\n",
      "4  a1  b2  c1  d1           0.041\n",
      "5  a1  b2  c1  d2           0.111\n",
      "6  a1  b2  c2  d1           0.098\n",
      "7  a1  b2  c2  d2           0.093\n",
      "答案為 0.514\n",
      "==> 2. Pr(D=d2) 集合內容:\n",
      "     A   B   C   D  Pr(A, B, C, D)\n",
      "1   a1  b1  c1  d2           0.047\n",
      "3   a1  b1  c2  d2           0.036\n",
      "5   a1  b2  c1  d2           0.111\n",
      "7   a1  b2  c2  d2           0.093\n",
      "9   a2  b1  c1  d2           0.034\n",
      "11  a2  b1  c2  d2           0.054\n",
      "13  a2  b2  c1  d2           0.028\n",
      "15  a2  b2  c2  d2           0.122\n",
      "答案為 0.525\n",
      "==> 3. Pr(A=a1,D=d2) 集合內容:\n",
      "    A   B   C   D  Pr(A, B, C, D)\n",
      "1  a1  b1  c1  d2           0.047\n",
      "3  a1  b1  c2  d2           0.036\n",
      "5  a1  b2  c1  d2           0.111\n",
      "7  a1  b2  c2  d2           0.093\n",
      "sum: 0.28700000000000003\n",
      "Pr(A=a1|D=d2) = Pr(A=a1, D=d2) / Pr(D=d2)\n",
      "答案為 0.5466666666666666\n",
      "==> 4. Pr(D=d2|A=a1) = Pr(D=d2, A=a1) / Pr(A=a1)\n",
      "答案為 0.5583657587548637\n",
      "==> 5. Pr(A=a2, B=b2) 集合內容:\n",
      "     A   B   C   D  Pr(A, B, C, D)\n",
      "12  a2  b2  c1  d1           0.083\n",
      "13  a2  b2  c1  d2           0.028\n",
      "14  a2  b2  c2  d1           0.023\n",
      "15  a2  b2  c2  d2           0.122\n",
      "sum: 0.256\n",
      "Pr(A=a2, B=b2, D=d2) 集合內容:\n",
      "     A   B   C   D  Pr(A, B, C, D)\n",
      "13  a2  b2  c1  d2           0.028\n",
      "15  a2  b2  c2  d2           0.122\n",
      "sum: 0.15\n",
      "Pr(D=d2|A=a2, B=b2) = Pr(D=d2, A=a2, B=b2) / Pr(A=a2, B=b2)\n",
      "答案為 0.5859375\n",
      "==> 6. Pr(A=a1, B=b1) 集合內容:\n",
      "    A   B   C   D  Pr(A, B, C, D)\n",
      "0  a1  b1  c1  d1           0.003\n",
      "1  a1  b1  c1  d2           0.047\n",
      "2  a1  b1  c2  d1           0.085\n",
      "3  a1  b1  c2  d2           0.036\n",
      "sum: 0.171\n",
      "Pr(C=c1, D=d1, A=a1, B=b1) 集合內容:\n",
      "    A   B   C   D  Pr(A, B, C, D)\n",
      "0  a1  b1  c1  d1           0.003\n",
      "sum: 0.003\n",
      "Pr(c1, d1 | a1, b1) = Pr(c1, d1, a1, b1) / Pr(a1, b1)\n",
      "答案為 0.017543859649122806\n"
     ]
    }
   ],
   "source": [
    "import pandas as pd\n",
    "\n",
    "joint_csv = pd.read_csv('joint.distribution.4.random.variables.csv')\n",
    "\n",
    "# Pr(A=a1)\n",
    "pr1 = joint_csv[joint_csv.A == 'a1']\n",
    "print('==> 1. Pr(A=a1) 集合內容:\\n{}'.format(pr1))\n",
    "print('答案為 {}'.format(pr1['Pr(A, B, C, D)'].sum()))\n",
    "\n",
    "# Pr(D=d2)\n",
    "pr2 = joint_csv[joint_csv.D == 'd2']\n",
    "print('==> 2. Pr(D=d2) 集合內容:\\n{}'.format(pr2))\n",
    "print('答案為 {}'.format(pr2['Pr(A, B, C, D)'].sum()))\n",
    "\n",
    "# Pr(A=a1|D=d2)\n",
    "pr3 = pr2[pr2.A == 'a1']\n",
    "print('==> 3. Pr(A=a1,D=d2) 集合內容:\\n{}'.format(pr3))\n",
    "print('sum: {}'.format(pr3['Pr(A, B, C, D)'].sum()))\n",
    "\n",
    "print('Pr(A=a1|D=d2) = Pr(A=a1, D=d2) / Pr(D=d2)')\n",
    "print('答案為 {}'.format(0.287 / 0.525))\n",
    "\n",
    "# Pr(D=d2|A=a1)\n",
    "print('==> 4. Pr(D=d2|A=a1) = Pr(D=d2, A=a1) / Pr(A=a1)')\n",
    "print('答案為 {}'.format(0.287 / 0.514))\n",
    "\n",
    "# Pr(D=d2|A=a2, B=b2)\n",
    "pr4 = joint_csv[(joint_csv.A=='a2') & (joint_csv.B=='b2')]\n",
    "print('==> 5. Pr(A=a2, B=b2) 集合內容:\\n{}'.format(pr4))\n",
    "print('sum: {}'.format(pr4['Pr(A, B, C, D)'].sum()))\n",
    "\n",
    "pr5 = pr4[pr4.D=='d2']\n",
    "print('Pr(A=a2, B=b2, D=d2) 集合內容:\\n{}'.format(pr5))\n",
    "print('sum: {}'.format(pr5['Pr(A, B, C, D)'].sum()))\n",
    "\n",
    "print('Pr(D=d2|A=a2, B=b2) = Pr(D=d2, A=a2, B=b2) / Pr(A=a2, B=b2)')\n",
    "print('答案為 {}'.format(0.15 / 0.256))\n",
    "\n",
    "# Pr(c1, d1 | a1, b1)\n",
    "pr6 = joint_csv[(joint_csv.A == 'a1') & (joint_csv.B == 'b1')]\n",
    "print('==> 6. Pr(A=a1, B=b1) 集合內容:\\n{}'.format(pr6))\n",
    "print('sum: {}'.format(pr6['Pr(A, B, C, D)'].sum()))\n",
    "\n",
    "pr7 = pr6[(pr6.C == 'c1') & (pr6.D == 'd1')]\n",
    "print('Pr(C=c1, D=d1, A=a1, B=b1) 集合內容:\\n{}'.format(pr7))\n",
    "print('sum: {}'.format(pr7['Pr(A, B, C, D)'].sum()))\n",
    "\n",
    "print('Pr(c1, d1 | a1, b1) = Pr(c1, d1, a1, b1) / Pr(a1, b1)')\n",
    "print('答案為 {}'.format(0.003 / 0.171))\n"
   ]
  },
  {
   "cell_type": "markdown",
   "metadata": {
    "kernel": "SoS"
   },
   "source": [
    "# 3.\n",
    "\n",
    "確知如何檢驗機率變數的獨立和條件獨立關係，以下 joint probability 中的 A 和 B 是否獨立？\n",
    "\n",
    "> [備註：機率表的讀法：Pr(A=a1, B=b1)=0.1; Pr(A=a2,B=b2)=0.2]\n",
    "\n",
    "> [備註：參考 AIMA Sec. 13.4]\n",
    "\n",
    "A | B | Pr(A, B)\n",
    "-- | -- | --\n",
    "a1 | b1 | 0.1\n",
    "a1 | b2 | 0.1\n",
    "a2 | b1 | 0.1\n",
    "a2 | b2 | 0.2\n",
    "a3 | b1 | 0.3\n",
    "a3 | b2 | 0.2"
   ]
  },
  {
   "cell_type": "markdown",
   "metadata": {
    "kernel": "Python3"
   },
   "source": [
    "當我們說兩事件(或 random variables) A、B 獨立時，有以下特性：\n",
    "\n",
    "1. $Pr(A|B) = Pr(A)$\n",
    "2. $Pr(B|A) = Pr(B)$\n",
    "3. $Pr(A, B) = Pr(A) \\times Pr(B)$"
   ]
  },
  {
   "cell_type": "code",
   "execution_count": 22,
   "metadata": {
    "kernel": "Python3"
   },
   "outputs": [
    {
     "name": "stdout",
     "output_type": "stream",
     "text": [
      "==> DataFrame content:\n",
      "    A   B  Pr(A,B)\n",
      "0  a1  b1      0.1\n",
      "1  a1  b2      0.1\n",
      "2  a2  b1      0.1\n",
      "3  a2  b2      0.2\n",
      "4  a3  b1      0.3\n",
      "5  a3  b2      0.2\n",
      "==> sum: 1.0\n",
      "Pr(A) {'a1': 0.2, 'a2': 0.3, 'a3': 0.5}\n",
      "Pr(B) {'b1': 0.5, 'b2': 0.5}\n",
      "Pr(A,B) {('a1', 'b1'): 0.1, ('a1', 'b2'): 0.1, ('a2', 'b1'): 0.1, ('a2', 'b2'): 0.2, ('a3', 'b1'): 0.3, ('a3', 'b2'): 0.2}\n",
      "Pr(A|B) {('a1', 'b1'): 0.2, ('a1', 'b2'): 0.2, ('a2', 'b1'): 0.2, ('a2', 'b2'): 0.4, ('a3', 'b1'): 0.6, ('a3', 'b2'): 0.4}\n",
      "Pr(B|A) {('b1', 'a1'): 0.5, ('b1', 'a2'): 0.333, ('b1', 'a3'): 0.6, ('b2', 'a1'): 0.5, ('b2', 'a2'): 0.667, ('b2', 'a3'): 0.4}\n",
      "檢查 Pr(A,B) = Pr(A) x Pr(B)\n",
      "check Pr(a1,b1) == Pr(a1)Pr(b1)\n",
      "check Pr(a1,b2) == Pr(a1)Pr(b2)\n",
      "check Pr(a2,b1) == Pr(a2)Pr(b1)\n",
      "a2 與 b1 並非獨立\n",
      "故 A 與 B 並非獨立\n"
     ]
    }
   ],
   "source": [
    "import pandas as pd\n",
    "\n",
    "a_set = ['a1', 'a2', 'a3']\n",
    "b_set = ['b1', 'b2']\n",
    "key_pr = 'Pr(A,B)'\n",
    "\n",
    "df = pd.DataFrame({'A': ['a1', 'a1', 'a2', 'a2', 'a3', 'a3'],\n",
    "                   'B': ['b1', 'b2', 'b1', 'b2', 'b1', 'b2'],\n",
    "                   key_pr: [0.1, 0.1, 0.1, 0.2, 0.3, 0.2]})\n",
    "\n",
    "print('==> DataFrame content:\\n{}'.format(df))\n",
    "print('==> sum: {}'.format(df['Pr(A,B)'].sum()))\n",
    "\n",
    "\n",
    "PrA = {a: round(df[df.A==a][key_pr].sum(), 1) for a in a_set}\n",
    "PrB = {b: round(df[df.B==b][key_pr].sum(), 1) for b in b_set}\n",
    "\n",
    "PrAandB = {(a, b): df[(df.A==a) & (df.B==b)][key_pr].values[0]\n",
    "           for a in a_set\n",
    "           for b in b_set}\n",
    "\n",
    "PrAgvnB = {(a, b): round(PrAandB[(a, b)] / PrB[b], 3)\n",
    "          for a in a_set\n",
    "          for b in b_set}\n",
    "\n",
    "PrBgvnA = {(b, a): round(PrAandB[(a, b)] / PrA[a], 3)\n",
    "          for b in b_set\n",
    "          for a in a_set}\n",
    "\n",
    "print('Pr(A)', PrA)\n",
    "print('Pr(B)', PrB)\n",
    "print('Pr(A,B)', PrAandB)\n",
    "print('Pr(A|B)', PrAgvnB)\n",
    "print('Pr(B|A)', PrBgvnA)\n",
    "\n",
    "try:\n",
    "    print('檢查 Pr(A,B) = Pr(A) x Pr(B)')\n",
    "    for key in PrAandB:\n",
    "        key_a = key[0]\n",
    "        key_b = key[1]\n",
    "        print('check Pr({},{}) == Pr({})Pr({})'.format(key_a, key_b, key_a, key_b))\n",
    "        assert (PrAandB[key] == PrA[key_a] * PrB[key_b]), \"{} 與 {} 並非獨立\".format(key_a, key_b)\n",
    "\n",
    "    print('檢查 Pr(A|B) = Pr(A)')\n",
    "    for key in PrAgvnB:\n",
    "        key_a = key[0]\n",
    "        key_b = key[1]\n",
    "        print('check: Pr({}|{}) == Pr({})'.format(key_a, key_b, key_a))\n",
    "        assert (PrAgvnB[key] == PrA[key_a]), \"{} 與 {} 並非獨立\".format(key_a, key_b)\n",
    "\n",
    "    print('檢查 Pr(B|A) = Pr(B)')\n",
    "    for key in PrBgvnA:\n",
    "        key_a = key[1]\n",
    "        key_b = key[0]\n",
    "        assert (PrBgvnA[key] == PrB[key_b]), \"{} 與 {} 並非獨立\".format(key_b, key_a)\n",
    "except AssertionError as err:\n",
    "    print(str(err))\n",
    "    print(\"故 A 與 B 並非獨立\")\n",
    "else:\n",
    "    print(\"A 與 B 互相獨立\")"
   ]
  },
  {
   "cell_type": "markdown",
   "metadata": {
    "kernel": "SoS"
   },
   "source": [
    "# 4.\n",
    "\n",
    "依據以下的 joint probability distribution回答問題\n",
    "\n",
    "* B 和 C 是否獨立？[備註：參考 AIMA Sec. 13.4]\n",
    "* 若給定機率變數A，B和C是否條件獨立？\n",
    "\n",
    "> [備註：參考 AIMA p. 498]\n",
    "\n",
    "A | B | C | Pr(A,B,C)\n",
    "-- | -- | -- | --\n",
    "a1 | b1 | c1 | 0.216\n",
    "a1 | b1 | c2 | 0.024\n",
    "a1 | b2 | c1 | 0.324\n",
    "a1 | b2 | c2 | 0.036\n",
    "a2 | b1 | c1 | 0.056\n",
    "a2 | b1 | c2 | 0.224\n",
    "a2 | b2 | c1 | 0.024\n",
    "a2 | b2 | c2 | 0.096\n"
   ]
  },
  {
   "cell_type": "markdown",
   "metadata": {
    "kernel": "Python3"
   },
   "source": [
    "當我們說隨機變數 B 與 C 在給定 A 時條件獨立，其結果如下：\n",
    "\n",
    "1. $Pr(B,C|A) = Pr(B|A) \\times Pr(C|A)$\n",
    "1. $Pr(B|C,A) = Pr(B|A)$\n",
    "1. $Pr(C|B,A) = Pr(C|A)$"
   ]
  },
  {
   "cell_type": "code",
   "execution_count": 23,
   "metadata": {
    "kernel": "SoS"
   },
   "outputs": [
    {
     "name": "stdout",
     "output_type": "stream",
     "text": [
      "==> DataFrame content:\n",
      "    A   B   C  Pr(A,B,C)\n",
      "0  a1  b1  c1      0.216\n",
      "1  a1  b1  c2      0.024\n",
      "2  a1  b2  c1      0.324\n",
      "3  a1  b2  c2      0.036\n",
      "4  a2  b1  c1      0.056\n",
      "5  a2  b1  c2      0.224\n",
      "6  a2  b2  c1      0.024\n",
      "7  a2  b2  c2      0.096\n",
      "==> sum:1.0\n",
      "==> Pr(b1):0.52\n",
      "==> Pr(c1):0.6200000000000001\n",
      "==> Pr(b1,c1):0.216\n",
      "==> Pr(b1|c1): 0.3483870967741935\n",
      "因 Pr(b1|c1) != Pr(b1) 故 B & C 並非獨立的兩個 random variable.\n",
      "==> Pr(b1,c1|a1) = Pr(b1,c1,a1) / Pr(a1) = 0.35999999999999993\n"
     ]
    }
   ],
   "source": [
    "import pandas as pd\n",
    "\n",
    "a_set = ['a1', 'a2']\n",
    "b_set = ['b1', 'b2']\n",
    "c_set = ['c1', 'c2']\n",
    "key_pr = 'Pr(A,B,C)'\n",
    "\n",
    "df = pd.DataFrame({'A': ['a1', 'a1', 'a1', 'a1', 'a2', 'a2', 'a2', 'a2'],\n",
    "                   'B': ['b1', 'b1', 'b2', 'b2', 'b1', 'b1', 'b2', 'b2'],\n",
    "                   'C': ['c1', 'c2', 'c1', 'c2', 'c1', 'c2', 'c1', 'c2'],\n",
    "                   'Pr(A,B,C)': [0.216, 0.024, 0.324, 0.036, 0.056, 0.224, 0.024, 0.096]})\n",
    "\n",
    "print('==> DataFrame content:\\n{}'.format(df))\n",
    "print('==> sum:{}'.format(df[key_pr].sum()))\n",
    "\n",
    "## 單論 B、C 的獨立性\n",
    "\n",
    "print('==> Pr(b1):{}'.format(df[df.B=='b1'][key_pr].sum()))\n",
    "print('==> Pr(c1):{}'.format(df[df.C=='c1'][key_pr].sum()))\n",
    "print('==> Pr(b1,c1):{}'.format(df[(df.B=='b1') & (df.C=='c1')][key_pr].values[0]))\n",
    "print('==> Pr(b1|c1): {}'.format(df[(df.B=='b1') & (df.C=='c1')][key_pr].values[0] / df[df.C=='c1'][key_pr].sum()))\n",
    "print('因 Pr(b1|c1) != Pr(b1) 故 B & C 並非獨立的兩個 random variable.')\n",
    "\n",
    "## 加上 A 的因素後\n",
    "\n",
    "print('==> Pr(b1,c1|a1) = Pr(b1,c1,a1) / Pr(a1) = {}'.format(df[(df.B=='b1') & (df.C=='c1') & (df.A=='a1')][key_pr].values[0] / df[df.A=='a1'][key_pr].sum()))"
   ]
  },
  {
   "cell_type": "markdown",
   "metadata": {
    "kernel": "SoS"
   },
   "source": [
    "# 5.\n",
    "\n",
    "貝氏網路預備工作\n",
    "\n",
    "* 安裝 Hugin Lite：https://www.hugin.com/\n",
    "* 下載 ChestClinic.net\n",
    "* 嘗試開啟 ChestClinic.net"
   ]
  }
 ],
 "metadata": {
  "kernelspec": {
   "display_name": "SoS",
   "language": "sos",
   "name": "sos"
  },
  "language_info": {
   "codemirror_mode": "sos",
   "file_extension": ".sos",
   "mimetype": "text/x-sos",
   "name": "sos",
   "nbconvert_exporter": "sos_notebook.converter.SoS_Exporter",
   "pygments_lexer": "sos"
  },
  "sos": {
   "kernels": [
    [
     "Python3",
     "python3",
     "Python3",
     "#FFD91A",
     {
      "name": "ipython",
      "version": 3
     }
    ],
    [
     "SoS",
     "sos",
     "",
     "",
     "sos"
    ]
   ],
   "panel": {
    "displayed": false,
    "height": 0
   },
   "version": "0.21.9"
  }
 },
 "nbformat": 4,
 "nbformat_minor": 4
}
